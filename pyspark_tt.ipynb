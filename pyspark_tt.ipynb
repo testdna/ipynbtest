{
 "cells": [
  {
   "cell_type": "code",
   "execution_count": 1,
   "id": "2e7f2b26-c75a-4673-ae2a-e6dc713b47ec",
   "metadata": {},
   "outputs": [
    {
     "name": "stdout",
     "output_type": "stream",
     "text": [
      "3.11.6 | packaged by conda-forge | (main, Oct  3 2023, 11:57:02) [GCC 12.3.0]\n"
     ]
    }
   ],
   "source": [
    "import sys\n",
    "print(sys.version)"
   ]
  },
  {
   "cell_type": "code",
   "execution_count": 2,
   "id": "a8a7965a-e9b5-4caa-933a-0c598fb522b5",
   "metadata": {},
   "outputs": [],
   "source": [
    "import pyspark\n",
    "sc = pyspark.SparkContext(appName=\"SparkContext\")"
   ]
  },
  {
   "cell_type": "code",
   "execution_count": 3,
   "id": "7d3d7522-8048-421a-848a-45146fd29e25",
   "metadata": {},
   "outputs": [
    {
     "data": {
      "text/plain": [
       "[1, 2, 3, 4]"
      ]
     },
     "execution_count": 3,
     "metadata": {},
     "output_type": "execute_result"
    }
   ],
   "source": [
    "number = [1, 2, 3, 4]\n",
    "\n",
    "rdd = sc.parallelize(number)\n",
    "rdd.collect()"
   ]
  },
  {
   "cell_type": "code",
   "execution_count": 4,
   "id": "fd7715ad-94d3-4279-b97a-d61f41860ddc",
   "metadata": {},
   "outputs": [],
   "source": [
    "rdd1 = sc.parallelize(range(0, 100))\n",
    "rdd1.saveAsTextFile('range_to_100')"
   ]
  },
  {
   "cell_type": "code",
   "execution_count": 5,
   "id": "61d31051-dab0-4cf0-8853-89b18062f2a2",
   "metadata": {},
   "outputs": [
    {
     "name": "stdout",
     "output_type": "stream",
     "text": [
      "[0, 1, 2, 3, 4, 5, 6, 7, 8, 9, 10, 11, 12, 13, 14, 15, 16, 17, 18, 19, 20, 21, 22, 23, 24, 25, 26, 27, 28, 29, 30, 31, 32, 33, 34, 35, 36, 37, 38, 39, 40, 41, 42, 43, 44, 45, 46, 47, 48, 49, 50, 51, 52, 53, 54, 55, 56, 57, 58, 59, 60, 61, 62, 63, 64, 65, 66, 67, 68, 69, 70, 71, 72, 73, 74, 75, 76, 77, 78, 79, 80, 81, 82, 83, 84, 85, 86, 87, 88, 89, 90, 91, 92, 93, 94, 95, 96, 97, 98, 99]\n"
     ]
    }
   ],
   "source": [
    "out = rdd1.collect()\n",
    "\n",
    "print(out)"
   ]
  },
  {
   "cell_type": "code",
   "execution_count": 6,
   "id": "03018a33-1195-42e2-acf3-866df7d87561",
   "metadata": {},
   "outputs": [
    {
     "name": "stdout",
     "output_type": "stream",
     "text": [
      "[['cat', 'cat'], ['ele'], ['cat', 'ele']]\n"
     ]
    },
    {
     "data": {
      "text/plain": [
       "list"
      ]
     },
     "execution_count": 6,
     "metadata": {},
     "output_type": "execute_result"
    }
   ],
   "source": [
    "wordsList = [['cat', 'cat'], ['ele'], ['cat','ele']]\n",
    "\n",
    "rdd2 = sc.parallelize(wordsList)\n",
    "output = rdd2.map(lambda line : [x for x in line]).collect()\n",
    "\n",
    "print(output)\n",
    "type(output)"
   ]
  },
  {
   "cell_type": "code",
   "execution_count": 7,
   "id": "075517dd-17d8-4fe3-8184-8dc171a14e0d",
   "metadata": {},
   "outputs": [
    {
     "name": "stdout",
     "output_type": "stream",
     "text": [
      "['cat', 'cat', 'ele', 'cat', 'ele']\n"
     ]
    }
   ],
   "source": [
    "wordsList = [['cat', 'cat'], ['ele'], ['cat','ele']]\n",
    "\n",
    "rdd2 = sc.parallelize(wordsList)\n",
    "output = rdd2.flatMap(lambda line : [x for x in line]).collect()\n",
    "\n",
    "print(output)"
   ]
  },
  {
   "cell_type": "code",
   "execution_count": 8,
   "id": "dd2662fa-d242-4ae2-8462-68c5a9eac256",
   "metadata": {},
   "outputs": [
    {
     "name": "stdout",
     "output_type": "stream",
     "text": [
      "[('ele', 2)]\n"
     ]
    }
   ],
   "source": [
    "wordsList = [['cat', 'cat'], ['ele'], ['cat','ele']]\n",
    "def remove_cat(animals):\n",
    "    return (animals != 'cat')\n",
    "\n",
    "rdd3 = sc.parallelize(wordsList)\n",
    "output = rdd3.flatMap(lambda line : [x for x in line]) \\\n",
    "    .filter(remove_cat) \\\n",
    "    .map(lambda ele : (ele, 1)) \\\n",
    "    .groupByKey() \\\n",
    "    .mapValues(lambda x : sum(x)) \\\n",
    "    .collect()\n",
    "\n",
    "print(output)"
   ]
  },
  {
   "cell_type": "code",
   "execution_count": 9,
   "id": "0b110420-fd14-4c1b-b848-e1d7aa037560",
   "metadata": {},
   "outputs": [
    {
     "name": "stdout",
     "output_type": "stream",
     "text": [
      "[('ele', 2)]\n"
     ]
    }
   ],
   "source": [
    "wordsList = [['cat', 'cat'], ['ele'], ['cat','ele']]\n",
    "def remove_cat(animals):\n",
    "    return (animals != 'cat')\n",
    "\n",
    "rdd3 = sc.parallelize(wordsList)\n",
    "output = rdd3.flatMap(lambda line : [x for x in line]) \\\n",
    "    .filter(remove_cat) \\\n",
    "    .map(lambda ele : (ele, 1)) \\\n",
    "    .reduceByKey(lambda x, y : x + y) \\\n",
    "    .collect()\n",
    "\n",
    "print(output)"
   ]
  },
  {
   "cell_type": "code",
   "execution_count": 10,
   "id": "df9650d6-1b1d-4fe2-a147-19bcccade599",
   "metadata": {},
   "outputs": [
    {
     "name": "stdout",
     "output_type": "stream",
     "text": [
      "defaultdict(<class 'int'>, {'cat': 3, 'ele': 2})\n"
     ]
    }
   ],
   "source": [
    "wordsList = [['cat', 'cat'], ['ele'], ['cat','ele']]\n",
    "\n",
    "rdd2 = sc.parallelize(wordsList)\n",
    "output = rdd2.flatMap(lambda line : [x for x in line]).countByValue()\n",
    "print(output)"
   ]
  },
  {
   "cell_type": "code",
   "execution_count": null,
   "id": "bed2f97c-de95-4332-8c54-e2ad1b418e75",
   "metadata": {},
   "outputs": [],
   "source": []
  },
  {
   "cell_type": "code",
   "execution_count": null,
   "id": "69fb0767-45e3-42b0-9bdf-011f0796111c",
   "metadata": {},
   "outputs": [],
   "source": []
  },
  {
   "cell_type": "code",
   "execution_count": null,
   "id": "fb3ece92-28cd-432d-9eeb-6401e0890c62",
   "metadata": {},
   "outputs": [],
   "source": []
  }
 ],
 "metadata": {
  "kernelspec": {
   "display_name": "Python 3 (ipykernel)",
   "language": "python",
   "name": "python3"
  },
  "language_info": {
   "codemirror_mode": {
    "name": "ipython",
    "version": 3
   },
   "file_extension": ".py",
   "mimetype": "text/x-python",
   "name": "python",
   "nbconvert_exporter": "python",
   "pygments_lexer": "ipython3",
   "version": "3.11.6"
  }
 },
 "nbformat": 4,
 "nbformat_minor": 5
}
